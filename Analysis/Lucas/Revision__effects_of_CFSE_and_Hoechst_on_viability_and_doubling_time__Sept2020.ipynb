{
 "metadata": {
  "language_info": {
   "codemirror_mode": {
    "name": "ipython",
    "version": 3
   },
   "file_extension": ".py",
   "mimetype": "text/x-python",
   "name": "python",
   "nbconvert_exporter": "python",
   "pygments_lexer": "ipython3",
   "version": "3.8.3-final"
  },
  "orig_nbformat": 2,
  "kernelspec": {
   "name": "Python 3.8.3 64-bit ('miniconda3': virtualenv)",
   "display_name": "Python 3.8.3 64-bit ('miniconda3': virtualenv)",
   "metadata": {
    "interpreter": {
     "hash": "4e4af38f6e083cb3fde7ace04c850f3bf71dc089fbabe724643a5abd33a97057"
    }
   }
  }
 },
 "nbformat": 4,
 "nbformat_minor": 2,
 "cells": [
  {
   "cell_type": "code",
   "execution_count": 22,
   "metadata": {},
   "outputs": [
    {
     "output_type": "execute_result",
     "data": {
      "text/plain": "                            Seeded cell number  \\\nCell Type   Staining                             \nESCs        Unstained                 750000.0   \n            CFSE                      750000.0   \n            Hoechst                   750000.0   \n            CFSE + Hoechst            750000.0   \nFibroblasts Unstained                 150000.0   \n\n                           Harvested cell number (after 24h)  Viability  \\\nCell Type   Staining                                                      \nESCs        Unstained                                2.8x106       0.90   \n            CFSE                                    2.60x106       0.89   \n            Hoechst                                 2.72x106       0.88   \n            CFSE + Hoechst                          2.65x106       0.90   \nFibroblasts Unstained                                3.4x105       0.97   \n\n                            Doubling time (hrs)  \nCell Type   Staining                             \nESCs        Unstained                      12.6  \n            CFSE                           13.0  \n            Hoechst                        12.9  \n            CFSE + Hoechst                 13.1  \nFibroblasts Unstained                      20.3  ",
      "text/html": "<div>\n<style scoped>\n    .dataframe tbody tr th:only-of-type {\n        vertical-align: middle;\n    }\n\n    .dataframe tbody tr th {\n        vertical-align: top;\n    }\n\n    .dataframe thead th {\n        text-align: right;\n    }\n</style>\n<table border=\"1\" class=\"dataframe\">\n  <thead>\n    <tr style=\"text-align: right;\">\n      <th></th>\n      <th></th>\n      <th>Seeded cell number</th>\n      <th>Harvested cell number (after 24h)</th>\n      <th>Viability</th>\n      <th>Doubling time (hrs)</th>\n    </tr>\n    <tr>\n      <th>Cell Type</th>\n      <th>Staining</th>\n      <th></th>\n      <th></th>\n      <th></th>\n      <th></th>\n    </tr>\n  </thead>\n  <tbody>\n    <tr>\n      <th rowspan=\"4\" valign=\"top\">ESCs</th>\n      <th>Unstained</th>\n      <td>750000.0</td>\n      <td>2.8x106</td>\n      <td>0.90</td>\n      <td>12.6</td>\n    </tr>\n    <tr>\n      <th>CFSE</th>\n      <td>750000.0</td>\n      <td>2.60x106</td>\n      <td>0.89</td>\n      <td>13.0</td>\n    </tr>\n    <tr>\n      <th>Hoechst</th>\n      <td>750000.0</td>\n      <td>2.72x106</td>\n      <td>0.88</td>\n      <td>12.9</td>\n    </tr>\n    <tr>\n      <th>CFSE + Hoechst</th>\n      <td>750000.0</td>\n      <td>2.65x106</td>\n      <td>0.90</td>\n      <td>13.1</td>\n    </tr>\n    <tr>\n      <th>Fibroblasts</th>\n      <th>Unstained</th>\n      <td>150000.0</td>\n      <td>3.4x105</td>\n      <td>0.97</td>\n      <td>20.3</td>\n    </tr>\n  </tbody>\n</table>\n</div>"
     },
     "metadata": {},
     "execution_count": 22
    }
   ],
   "source": [
    "# plot viability and doubling time for Hoescht & CFSE stained cells\n",
    "# show the effect of CFSE and Hoechst on viability and doubling time in FIBs and ESCs\n",
    "\n",
    "import seaborn as sns\n",
    "import pandas as pd\n",
    "import matplotlib.pyplot as plt\n",
    "import numpy as np\n",
    "\n",
    "PROJECTDIR = '/Volumes/CareyLab/Projects/2019__ProliferationCorrelatedExpression/'\n",
    "DATADIR = PROJECTDIR + 'Manuscript__ProlifCorrExpr/S Table/' \n",
    "DATAFILE = DATADIR + 'Revision__effects_of_CFSE_and_Hoechst_on_viability_and_doubling_time__Sept2020.xlsx'\n",
    "\n",
    "\n",
    "FIB = pd.DataFrame( {\n",
    "    'staining':['unstained','CFSE','Hoechst','CFSE+Hoechst'],\n",
    "    'viability':[97,98,98,98],\n",
    "    'doubling time':[20.3,19.5,20.7,19.9]\n",
    "})\n",
    "\n",
    "ESCs = pd.DataFrame( {\n",
    "    'staining':['unstained','CFSE','Hoechst','CFSE+Hoechst'],\n",
    "    'viability':[90,89,88,90],\n",
    "    'doubling time':[12.6,13,12.9,13.1]\n",
    "})\n",
    "\n",
    "df = pd.read_excel(DATAFILE,index_col=[0,1])\n",
    "df = df[np.isfinite(df.Viability)]\n",
    "df.head()"
   ]
  },
  {
   "cell_type": "code",
   "execution_count": 29,
   "metadata": {
    "tags": []
   },
   "outputs": [
    {
     "output_type": "error",
     "ename": "ValueError",
     "evalue": "Could not interpret input &#39;Cell Type&#39;",
     "traceback": [
      "\u001b[0;31m---------------------------------------------------------------------------\u001b[0m",
      "\u001b[0;31mValueError\u001b[0m                                Traceback (most recent call last)",
      "\u001b[0;32m&lt;ipython-input-29-6fb2f2cde1ee&gt;\u001b[0m in \u001b[0;36m&lt;module&gt;\u001b[0;34m\u001b[0m\n\u001b[0;32m----&gt; 1\u001b[0;31m \u001b[0mg\u001b[0m \u001b[0;34m=\u001b[0m \u001b[0msns\u001b[0m\u001b[0;34m.\u001b[0m\u001b[0mcatplot\u001b[0m\u001b[0;34m(\u001b[0m\u001b[0mdata\u001b[0m\u001b[0;34m=\u001b[0m\u001b[0mdf\u001b[0m\u001b[0;34m,\u001b[0m\u001b[0mkind\u001b[0m\u001b[0;34m=\u001b[0m\u001b[0;34m&#39;bar&#39;\u001b[0m\u001b[0;34m,\u001b[0m\u001b[0mx\u001b[0m\u001b[0;34m=\u001b[0m\u001b[0;34m&#39;Cell Type&#39;\u001b[0m\u001b[0;34m,\u001b[0m\u001b[0my\u001b[0m\u001b[0;34m=\u001b[0m\u001b[0mdf\u001b[0m\u001b[0;34m.\u001b[0m\u001b[0mcolumns\u001b[0m\u001b[0;34m[\u001b[0m\u001b[0;36m3\u001b[0m\u001b[0;34m]\u001b[0m\u001b[0;34m)\u001b[0m\u001b[0;34m\u001b[0m\u001b[0;34m\u001b[0m\u001b[0m\n\u001b[0m",
      "\u001b[0;32m~/miniconda3/lib/python3.8/site-packages/seaborn/_decorators.py\u001b[0m in \u001b[0;36minner_f\u001b[0;34m(*args, **kwargs)\u001b[0m\n\u001b[1;32m     44\u001b[0m             )\n\u001b[1;32m     45\u001b[0m         \u001b[0mkwargs\u001b[0m\u001b[0;34m.\u001b[0m\u001b[0mupdate\u001b[0m\u001b[0;34m(\u001b[0m\u001b[0;34m{\u001b[0m\u001b[0mk\u001b[0m\u001b[0;34m:\u001b[0m \u001b[0marg\u001b[0m \u001b[0;32mfor\u001b[0m \u001b[0mk\u001b[0m\u001b[0;34m,\u001b[0m \u001b[0marg\u001b[0m \u001b[0;32min\u001b[0m \u001b[0mzip\u001b[0m\u001b[0;34m(\u001b[0m\u001b[0msig\u001b[0m\u001b[0;34m.\u001b[0m\u001b[0mparameters\u001b[0m\u001b[0;34m,\u001b[0m \u001b[0margs\u001b[0m\u001b[0;34m)\u001b[0m\u001b[0;34m}\u001b[0m\u001b[0;34m)\u001b[0m\u001b[0;34m\u001b[0m\u001b[0;34m\u001b[0m\u001b[0m\n\u001b[0;32m---&gt; 46\u001b[0;31m         \u001b[0;32mreturn\u001b[0m \u001b[0mf\u001b[0m\u001b[0;34m(\u001b[0m\u001b[0;34m**\u001b[0m\u001b[0mkwargs\u001b[0m\u001b[0;34m)\u001b[0m\u001b[0;34m\u001b[0m\u001b[0;34m\u001b[0m\u001b[0m\n\u001b[0m\u001b[1;32m     47\u001b[0m     \u001b[0;32mreturn\u001b[0m \u001b[0minner_f\u001b[0m\u001b[0;34m\u001b[0m\u001b[0;34m\u001b[0m\u001b[0m\n\u001b[1;32m     48\u001b[0m \u001b[0;34m\u001b[0m\u001b[0m\n",
      "\u001b[0;32m~/miniconda3/lib/python3.8/site-packages/seaborn/categorical.py\u001b[0m in \u001b[0;36mcatplot\u001b[0;34m(x, y, hue, data, row, col, col_wrap, estimator, ci, n_boot, units, seed, order, hue_order, row_order, col_order, kind, height, aspect, orient, color, palette, legend, legend_out, sharex, sharey, margin_titles, facet_kws, **kwargs)\u001b[0m\n\u001b[1;32m   3777\u001b[0m     \u001b[0mp\u001b[0m \u001b[0;34m=\u001b[0m \u001b[0m_CategoricalPlotter\u001b[0m\u001b[0;34m(\u001b[0m\u001b[0;34m)\u001b[0m\u001b[0;34m\u001b[0m\u001b[0;34m\u001b[0m\u001b[0m\n\u001b[1;32m   3778\u001b[0m     \u001b[0mp\u001b[0m\u001b[0;34m.\u001b[0m\u001b[0mrequire_numeric\u001b[0m \u001b[0;34m=\u001b[0m \u001b[0mplotter_class\u001b[0m\u001b[0;34m.\u001b[0m\u001b[0mrequire_numeric\u001b[0m\u001b[0;34m\u001b[0m\u001b[0;34m\u001b[0m\u001b[0m\n\u001b[0;32m-&gt; 3779\u001b[0;31m     \u001b[0mp\u001b[0m\u001b[0;34m.\u001b[0m\u001b[0mestablish_variables\u001b[0m\u001b[0;34m(\u001b[0m\u001b[0mx_\u001b[0m\u001b[0;34m,\u001b[0m \u001b[0my_\u001b[0m\u001b[0;34m,\u001b[0m \u001b[0mhue\u001b[0m\u001b[0;34m,\u001b[0m \u001b[0mdata\u001b[0m\u001b[0;34m,\u001b[0m \u001b[0morient\u001b[0m\u001b[0;34m,\u001b[0m \u001b[0morder\u001b[0m\u001b[0;34m,\u001b[0m \u001b[0mhue_order\u001b[0m\u001b[0;34m)\u001b[0m\u001b[0;34m\u001b[0m\u001b[0;34m\u001b[0m\u001b[0m\n\u001b[0m\u001b[1;32m   3780\u001b[0m     if (\n\u001b[1;32m   3781\u001b[0m         \u001b[0morder\u001b[0m \u001b[0;32mis\u001b[0m \u001b[0;32mnot\u001b[0m \u001b[0;32mNone\u001b[0m\u001b[0;34m\u001b[0m\u001b[0;34m\u001b[0m\u001b[0m\n",
      "\u001b[0;32m~/miniconda3/lib/python3.8/site-packages/seaborn/categorical.py\u001b[0m in \u001b[0;36mestablish_variables\u001b[0;34m(self, x, y, hue, data, orient, order, hue_order, units)\u001b[0m\n\u001b[1;32m    151\u001b[0m                 \u001b[0;32mif\u001b[0m \u001b[0misinstance\u001b[0m\u001b[0;34m(\u001b[0m\u001b[0mvar\u001b[0m\u001b[0;34m,\u001b[0m \u001b[0mstr\u001b[0m\u001b[0;34m)\u001b[0m\u001b[0;34m:\u001b[0m\u001b[0;34m\u001b[0m\u001b[0;34m\u001b[0m\u001b[0m\n\u001b[1;32m    152\u001b[0m                     \u001b[0merr\u001b[0m \u001b[0;34m=\u001b[0m \u001b[0;34m&quot;Could not interpret input &#39;{}&#39;&quot;\u001b[0m\u001b[0;34m.\u001b[0m\u001b[0mformat\u001b[0m\u001b[0;34m(\u001b[0m\u001b[0mvar\u001b[0m\u001b[0;34m)\u001b[0m\u001b[0;34m\u001b[0m\u001b[0;34m\u001b[0m\u001b[0m\n\u001b[0;32m--&gt; 153\u001b[0;31m                     \u001b[0;32mraise\u001b[0m \u001b[0mValueError\u001b[0m\u001b[0;34m(\u001b[0m\u001b[0merr\u001b[0m\u001b[0;34m)\u001b[0m\u001b[0;34m\u001b[0m\u001b[0;34m\u001b[0m\u001b[0m\n\u001b[0m\u001b[1;32m    154\u001b[0m \u001b[0;34m\u001b[0m\u001b[0m\n\u001b[1;32m    155\u001b[0m             \u001b[0;31m# Figure out the plotting orientation\u001b[0m\u001b[0;34m\u001b[0m\u001b[0;34m\u001b[0m\u001b[0;34m\u001b[0m\u001b[0m\n",
      "\u001b[0;31mValueError\u001b[0m: Could not interpret input &#39;Cell Type&#39;"
     ]
    }
   ],
   "source": [
    "g = sns.catplot(data=df,kind='bar',x='Cell Type',y=df.columns[3])"
   ]
  },
  {
   "cell_type": "code",
   "execution_count": 35,
   "metadata": {
    "tags": []
   },
   "outputs": [
    {
     "output_type": "execute_result",
     "data": {
      "text/plain": "                            Seeded cell number  \\\nCell Type   Staining                             \nESCs        Unstained                 750000.0   \n            CFSE                      750000.0   \n            Hoechst                   750000.0   \n            CFSE + Hoechst            750000.0   \nFibroblasts Unstained                 150000.0   \n\n                           Harvested cell number (after 24h)  Viability  \\\nCell Type   Staining                                                      \nESCs        Unstained                                2.8x106       0.90   \n            CFSE                                    2.60x106       0.89   \n            Hoechst                                 2.72x106       0.88   \n            CFSE + Hoechst                          2.65x106       0.90   \nFibroblasts Unstained                                3.4x105       0.97   \n\n                            Doubling time (hrs)                       id   \nCell Type   Staining                                                       \nESCs        Unstained                      12.6         (ESCs, Unstained)  \n            CFSE                           13.0              (ESCs, CFSE)  \n            Hoechst                        12.9           (ESCs, Hoechst)  \n            CFSE + Hoechst                 13.1    (ESCs, CFSE + Hoechst)  \nFibroblasts Unstained                      20.3  (Fibroblasts, Unstained)  ",
      "text/html": "<div>\n<style scoped>\n    .dataframe tbody tr th:only-of-type {\n        vertical-align: middle;\n    }\n\n    .dataframe tbody tr th {\n        vertical-align: top;\n    }\n\n    .dataframe thead th {\n        text-align: right;\n    }\n</style>\n<table border=\"1\" class=\"dataframe\">\n  <thead>\n    <tr style=\"text-align: right;\">\n      <th></th>\n      <th></th>\n      <th>Seeded cell number</th>\n      <th>Harvested cell number (after 24h)</th>\n      <th>Viability</th>\n      <th>Doubling time (hrs)</th>\n      <th>id</th>\n    </tr>\n    <tr>\n      <th>Cell Type</th>\n      <th>Staining</th>\n      <th></th>\n      <th></th>\n      <th></th>\n      <th></th>\n      <th></th>\n    </tr>\n  </thead>\n  <tbody>\n    <tr>\n      <th rowspan=\"4\" valign=\"top\">ESCs</th>\n      <th>Unstained</th>\n      <td>750000.0</td>\n      <td>2.8x106</td>\n      <td>0.90</td>\n      <td>12.6</td>\n      <td>(ESCs, Unstained)</td>\n    </tr>\n    <tr>\n      <th>CFSE</th>\n      <td>750000.0</td>\n      <td>2.60x106</td>\n      <td>0.89</td>\n      <td>13.0</td>\n      <td>(ESCs, CFSE)</td>\n    </tr>\n    <tr>\n      <th>Hoechst</th>\n      <td>750000.0</td>\n      <td>2.72x106</td>\n      <td>0.88</td>\n      <td>12.9</td>\n      <td>(ESCs, Hoechst)</td>\n    </tr>\n    <tr>\n      <th>CFSE + Hoechst</th>\n      <td>750000.0</td>\n      <td>2.65x106</td>\n      <td>0.90</td>\n      <td>13.1</td>\n      <td>(ESCs, CFSE + Hoechst)</td>\n    </tr>\n    <tr>\n      <th>Fibroblasts</th>\n      <th>Unstained</th>\n      <td>150000.0</td>\n      <td>3.4x105</td>\n      <td>0.97</td>\n      <td>20.3</td>\n      <td>(Fibroblasts, Unstained)</td>\n    </tr>\n  </tbody>\n</table>\n</div>"
     },
     "metadata": {},
     "execution_count": 35
    }
   ],
   "source": [
    "df['id ']= df.index\n",
    "df.head()"
   ]
  },
  {
   "cell_type": "code",
   "execution_count": null,
   "metadata": {},
   "outputs": [],
   "source": []
  }
 ]
}